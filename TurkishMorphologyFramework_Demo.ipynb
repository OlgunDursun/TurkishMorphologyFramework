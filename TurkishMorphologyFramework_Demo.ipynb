{
  "cells": [
    {
      "cell_type": "markdown",
      "metadata": {
        "id": "NPOLkwuXYI-w"
      },
      "source": [
        "# 1. Introduction\n",
        "This document is intended to be a demonstration of the features within the framework that will be completely available under github.com/OlgunDursun/TurkishMorphologyFramework link."
      ]
    },
    {
      "cell_type": "code",
      "execution_count": 1,
      "metadata": {
        "colab": {
          "base_uri": "https://localhost:8080/"
        },
        "id": "OTTUvSEW_2Ok",
        "outputId": "70d0e5f4-3d4d-4c16-e446-edc1b456dd46"
      },
      "outputs": [
        {
          "name": "stdout",
          "output_type": "stream",
          "text": [
            "Requirement already satisfied: transformers in /Users/olgundursun/opt/anaconda3/lib/python3.9/site-packages (4.25.1)\n",
            "Requirement already satisfied: tqdm>=4.27 in /Users/olgundursun/opt/anaconda3/lib/python3.9/site-packages (from transformers) (4.64.1)\n",
            "Requirement already satisfied: pyyaml>=5.1 in /Users/olgundursun/opt/anaconda3/lib/python3.9/site-packages (from transformers) (6.0)\n",
            "Requirement already satisfied: tokenizers!=0.11.3,<0.14,>=0.11.1 in /Users/olgundursun/opt/anaconda3/lib/python3.9/site-packages (from transformers) (0.13.2)\n",
            "Requirement already satisfied: packaging>=20.0 in /Users/olgundursun/opt/anaconda3/lib/python3.9/site-packages (from transformers) (22.0)\n",
            "Requirement already satisfied: filelock in /Users/olgundursun/opt/anaconda3/lib/python3.9/site-packages (from transformers) (3.9.0)\n",
            "Requirement already satisfied: regex!=2019.12.17 in /Users/olgundursun/opt/anaconda3/lib/python3.9/site-packages (from transformers) (2022.3.15)\n",
            "Requirement already satisfied: requests in /Users/olgundursun/opt/anaconda3/lib/python3.9/site-packages (from transformers) (2.28.1)\n",
            "Requirement already satisfied: huggingface-hub<1.0,>=0.10.0 in /Users/olgundursun/opt/anaconda3/lib/python3.9/site-packages (from transformers) (0.11.1)\n",
            "Requirement already satisfied: numpy>=1.17 in /Users/olgundursun/opt/anaconda3/lib/python3.9/site-packages (from transformers) (1.23.5)\n",
            "Requirement already satisfied: typing-extensions>=3.7.4.3 in /Users/olgundursun/opt/anaconda3/lib/python3.9/site-packages (from huggingface-hub<1.0,>=0.10.0->transformers) (4.4.0)\n",
            "Requirement already satisfied: charset-normalizer<3,>=2 in /Users/olgundursun/opt/anaconda3/lib/python3.9/site-packages (from requests->transformers) (2.0.4)\n",
            "Requirement already satisfied: idna<4,>=2.5 in /Users/olgundursun/opt/anaconda3/lib/python3.9/site-packages (from requests->transformers) (3.4)\n",
            "Requirement already satisfied: certifi>=2017.4.17 in /Users/olgundursun/opt/anaconda3/lib/python3.9/site-packages (from requests->transformers) (2023.5.7)\n",
            "Requirement already satisfied: urllib3<1.27,>=1.21.1 in /Users/olgundursun/opt/anaconda3/lib/python3.9/site-packages (from requests->transformers) (1.26.14)\n"
          ]
        }
      ],
      "source": [
        "!pip install transformers\n",
        "\n",
        "from tmf import Word\n",
        "from tmf import Affix\n",
        "from tmf import Analyzer\n",
        "import pandas as pd\n",
        "import csv\n",
        "\n"
      ]
    },
    {
      "cell_type": "markdown",
      "metadata": {
        "id": "IoAM051wYJCu"
      },
      "source": [
        "# 2. Resources\n",
        "\n",
        "There are some resources involved within the framework that are fully extensible.\n",
        "\n",
        "## 2.1. Lexicon (roots dictionary)\n",
        "Lexicon is compiled from several sources, including TDK's online dictionary.\n",
        "It is stored in .csv format. Loading and preview of a sample lexicon entry on the next cell."
      ]
    },
    {
      "cell_type": "code",
      "execution_count": 2,
      "metadata": {
        "id": "jeONk8fj_000"
      },
      "outputs": [],
      "source": [
        "\n",
        "lexicon = {}\n",
        "\n",
        "with open(\"tmf/resources/lexicon.csv\", encoding=\"utf8\") as f:\n",
        "    reader = csv.DictReader(f)\n",
        "    for row in reader:\n",
        "        word = row['entry']\n",
        "        features = {k: v for k, v in row.items() if k != 'entry'}\n",
        "        \n",
        "        if word.lower() in lexicon:\n",
        "            lexicon[word.lower()].append(features)\n",
        "        else:\n",
        "            lexicon[word.lower()] = [features]\n"
      ]
    },
    {
      "cell_type": "code",
      "execution_count": 3,
      "metadata": {
        "colab": {
          "base_uri": "https://localhost:8080/"
        },
        "id": "ufP6UfBWAfpX",
        "outputId": "f9cfae89-3d88-4562-b976-2ac0fc7a8173"
      },
      "outputs": [
        {
          "name": "stdout",
          "output_type": "stream",
          "text": [
            "[{'variants': 'mahsul', 'type_en': 'noun', 'suffixation': 'lü', 'origin': 'Arabic', 'semitic_root': 'HŞl', 'semitic_meter': 'mafˁūl', 'morph_features': '', 'definition': 'Ürün'}]\n",
            "[{'variants': 'tahsil', 'type_en': 'noun', 'suffixation': '', 'origin': 'Arabic', 'semitic_root': 'HŞl', 'semitic_meter': 'tafˁīl', 'morph_features': '', 'definition': 'Parayı alma, toplama'}]\n",
            "[{'variants': 'tercih', 'type_en': 'noun', 'suffixation': '', 'origin': 'Arabic', 'semitic_root': 'rch', 'semitic_meter': 'tafˁīl', 'morph_features': '', 'definition': 'Yeğleme'}]\n",
            "[{'variants': 'kavim,kavm', 'type_en': 'noun', 'suffixation': 'vmi', 'origin': 'Arabic', 'semitic_root': 'Kwm', 'semitic_meter': 'faˁl', 'morph_features': '', 'definition': 'Aralarında töre, dil ve kültür ortaklığı bulunan, boy ve soy bakımından da birbirine bağlı insan topluluğu, budun'}]\n"
          ]
        }
      ],
      "source": [
        "\n",
        "print(lexicon['mahsul'])\n",
        "print(lexicon['tahsil'])\n",
        "print(lexicon['tercih'])\n",
        "print(lexicon['kavim'])\n"
      ]
    },
    {
      "cell_type": "markdown",
      "metadata": {
        "id": "y3Oerfi4Bq-s"
      },
      "source": [
        "Things to note here:\n",
        "\n",
        "\n",
        "*   'mahsul' and 'tahsil' are words of Arabic origin with the same Semitic root, with different meters.\n",
        "*   'tahsil' and 'tercih' have the same meter but different roots.\n",
        "*   'kavim' has two variants: 'kavim' and 'kavm', where some suffixes cause the letter 'i' to drop.\n",
        "\n"
      ]
    },
    {
      "cell_type": "markdown",
      "metadata": {
        "id": "Pn25peLKYJFS"
      },
      "source": [
        "## 2.2. Affixes\n",
        "\n",
        "Affixes are stored under an .xlsx file that is manually manipulated.\n"
      ]
    },
    {
      "cell_type": "code",
      "execution_count": 4,
      "metadata": {
        "colab": {
          "base_uri": "https://localhost:8080/"
        },
        "id": "d5cg2C8nDOPx",
        "outputId": "efbfcd19-b69c-4700-9437-3003d02c88fc"
      },
      "outputs": [
        {
          "name": "stdout",
          "output_type": "stream",
          "text": [
            "Five random samples from the affixes:\n",
            "--------------------------------------\n",
            "|     | affix_id   | representation   | variants                                        | input_pos         | output_pos   |   input_features | output_features   |   wipe_features | positional_type   | functional_type   |   peculiarity | example             |   metadata |\n",
            "|----:|:-----------|:-----------------|:------------------------------------------------|:------------------|:-------------|-----------------:|:------------------|----------------:|:------------------|:------------------|--------------:|:--------------------|-----------:|\n",
            "| 109 | DER110     | lAş              | laş,leş                                         | adjective,noun    | verb         |              nan | nan               |             nan | suffix            | derivational      |           nan | haberleş-, koyulaş- |        nan |\n",
            "| 201 | INFL060    | kH(n)            | ki,kin,kü,kün                                   | pronoun           | pronoun      |              nan | nan               |             nan | suffix            | inflectional      |           nan | nan                 |        nan |\n",
            "|  92 | DER093     | GH               | kı,gı,ki,gi,ku,gu,kü,gü                         | verb              | noun         |              nan | nan               |             nan | suffix            | derivational      |           nan | silgi, bilgi, sevgi |        nan |\n",
            "|  31 | DER032     | (H)msA           | msa,ımsa,imsa,umsa,ümsa,mse,ımse,imse,umse,ümse | adjective,pronoun | verb         |              nan | nan               |             nan | suffix            | derivational      |           nan | azımsa-, özümse-    |        nan |\n",
            "| 156 | INFL015    | (n)Hn            | ın,nın,in,nin,un,nun,ün,nün                     | noun              | noun         |              nan | Case=Gen          |             nan | suffix            | inflectional      |           nan | evin                |        nan |\n"
          ]
        }
      ],
      "source": [
        "def from_excel_row(row):\n",
        "    affix_id = row[\"affix_id\"]\n",
        "    representation = row[\"representation\"]\n",
        "    variants = row[\"variants\"].split(\",\")\n",
        "    input_pos = row[\"input_pos\"].split(\",\")\n",
        "    output_pos = row[\"output_pos\"].split(\",\")\n",
        "    input_features = row[\"input_features\"]\n",
        "    output_features = row[\"output_features\"]\n",
        "    wipe_features = row[\"wipe_features\"]\n",
        "    positional_type = row[\"positional_type\"]\n",
        "    functional_type = row[\"functional_type\"]\n",
        "    peculiarity = row[\"peculiarity\"]\n",
        "    example = row[\"example\"]\n",
        "    metadata = row[\"metadata\"]\n",
        "    return Affix(affix_id, representation, variants, input_pos, output_pos, \n",
        "                input_features, output_features, wipe_features, positional_type, \n",
        "                functional_type, peculiarity, example, metadata)\n",
        "\n",
        "reader = pd.read_excel('tmf/resources/affixes.xlsx')\n",
        "affixes = {}\n",
        "for _, row in reader.iterrows():\n",
        "    affix = from_excel_row(row)\n",
        "    affixes[affix.affix_id] = affix\n",
        "\n",
        "\n",
        "print('Five random samples from the affixes:\\n--------------------------------------')\n",
        "print(reader.sample(5).to_markdown())"
      ]
    },
    {
      "cell_type": "markdown",
      "metadata": {
        "id": "TewmsGxdYJH-"
      },
      "source": []
    },
    {
      "cell_type": "markdown",
      "metadata": {
        "id": "r7x5gDRcYJK_"
      },
      "source": [
        "## 2.3. Constraint resources\n",
        "\n",
        "Constraint resources include utility files for various functions. In this demonstration, forbidden combinations and overriding segmentations are included.\n",
        "\n",
        "Forbidden combinations are the IDs of affixes that do not go together in the specified order.\n",
        "\n",
        "Overriding segmentations are the proxy of hard-coding some segmentations."
      ]
    },
    {
      "cell_type": "code",
      "execution_count": 5,
      "metadata": {
        "id": "T4aSpnEhGvTK"
      },
      "outputs": [
        {
          "name": "stdout",
          "output_type": "stream",
          "text": [
            "Forbidden combinations examples\n",
            "[('DER048', 'INFL096'), ('DER060', 'DER020'), ('INFL106', 'INFL022')]\n",
            "Overriding segmentations examples\n",
            "['buluşma bul+uş+ma', 'buluş bul+uş', 'birlikler bir+lik+ler']\n"
          ]
        }
      ],
      "source": [
        "with open(\"tmf/resources/forbidden_combinations.txt\", \"r\", encoding = \"utf-8\") as f:\n",
        "    forbidden_combinations = f.read().splitlines()\n",
        "\n",
        "forbidden_combinations = [tuple(combination.split(\"\\t\")) for combination in forbidden_combinations]\n",
        "\n",
        "print('Forbidden combinations examples')\n",
        "print(forbidden_combinations[:3])\n",
        "\n",
        "\n",
        "with open(\"tmf/resources/overriding_segmentations.txt\", \"r\", encoding = \"utf-8\") as f:\n",
        "    overriding_segmentations = f.read().splitlines()\n",
        "    overrides = {}\n",
        "    for item in overriding_segmentations:\n",
        "        a, b = item.split()\n",
        "        overrides[a] = b.split(\"+\")\n",
        "\n",
        "print('Overriding segmentations examples')\n",
        "print(overriding_segmentations[:3])\n"
      ]
    },
    {
      "cell_type": "markdown",
      "metadata": {
        "id": "X53F5XigYJNb"
      },
      "source": [
        "# 3. Morphological Analyzer"
      ]
    },
    {
      "cell_type": "markdown",
      "metadata": {
        "id": "wasYhigIYJP-"
      },
      "source": [
        "# 3.1. Basic properties\n",
        "\n",
        "Morphological parser relies on two main objects: Word and Affix. These are initiated once an analysis starts.\n",
        "\n",
        "Here is how they are initiated:\n",
        "\n",
        "\n",
        "```\n",
        "class Affix:\n",
        "    def __init__(self, affix_id, representation, variants, input_pos, output_pos,\n",
        "                 input_features, output_features, wipe_features, positional_type,\n",
        "                 functional_type, peculiarity, example, metadata):\n",
        "        self.affix_id = affix_id\n",
        "        self.representation = representation\n",
        "        self.variants = variants\n",
        "        self.input_pos = input_pos\n",
        "        self.output_pos = output_pos\n",
        "        self.input_features = self.parse_features(input_features)\n",
        "        self.output_features = self.parse_features(output_features)\n",
        "        self.wipe_features = self.parse_features(wipe_features)\n",
        "        self.positional_type = positional_type\n",
        "        self.functional_type = functional_type\n",
        "        self.peculiarity = peculiarity\n",
        "        self.example = example\n",
        "        self.metadata = metadata\n",
        "\n",
        "\n",
        "class Word:\n",
        "    def __init__(self, surface_form, deep_form, prefix, root, stem, suffixes, morph_features, pos = \"noun\"):\n",
        "        self.surface_form = surface_form\n",
        "        if type(deep_form) != list:\n",
        "            self.deep_form = [deep_form]\n",
        "        else:\n",
        "            self.deep_form = deep_form\n",
        "        self.prefix = prefix\n",
        "        self.root = root\n",
        "        self.stem = stem\n",
        "        if type(suffixes) != list:\n",
        "            self.suffixes = [suffixes]\n",
        "        else:\n",
        "            self.suffixes = suffixes\n",
        "            \n",
        "        self.morph_features = morph_features\n",
        "        self.pos = pos```\n",
        "\n"
      ]
    },
    {
      "cell_type": "markdown",
      "metadata": {
        "id": "6TyL_Gm0HU8W"
      },
      "source": [
        "## 3.2. Analyzing a word\n",
        "\n",
        "To morphologically analyze a word, a function that takes the input word, lexcion, affixes, forbidden combinations and overriding segmentations is used."
      ]
    },
    {
      "cell_type": "code",
      "execution_count": 6,
      "metadata": {
        "id": "lQlKA14AFkKE"
      },
      "outputs": [],
      "source": [
        "word = 'gözlükçülük'\n",
        "\n",
        "analyses = Analyzer().analyze(word, lexicon, affixes, forbidden_combinations, overrides)\n"
      ]
    },
    {
      "cell_type": "markdown",
      "metadata": {
        "id": "2Z4BY3GfJTca"
      },
      "source": [
        "How many analyses do we have for this word?"
      ]
    },
    {
      "cell_type": "code",
      "execution_count": 7,
      "metadata": {
        "colab": {
          "base_uri": "https://localhost:8080/"
        },
        "id": "hlsXx4GyINPf",
        "outputId": "c93e7ae4-2bd2-497c-d9dd-2dc67a4dd546"
      },
      "outputs": [
        {
          "name": "stdout",
          "output_type": "stream",
          "text": [
            "17\n"
          ]
        }
      ],
      "source": [
        "print(len(set(analyses)))\n"
      ]
    },
    {
      "cell_type": "markdown",
      "metadata": {
        "id": "vsBKh8qNYJSj"
      },
      "source": [
        "Phew! Do these analyses even make sense?\n",
        "\n",
        "To see the results of the analyses in a somewhat readable format, let's iterate through the results and see some properties."
      ]
    },
    {
      "cell_type": "code",
      "execution_count": 8,
      "metadata": {
        "colab": {
          "base_uri": "https://localhost:8080/"
        },
        "id": "uIfUe2SvFjKF",
        "outputId": "231e915b-0762-45c5-ce0a-688ef1dc7fc7"
      },
      "outputs": [
        {
          "name": "stdout",
          "output_type": "stream",
          "text": [
            "Surface form: gözlükçülük\n",
            "Deep form: ['göz', 'lük', 'çül', 'ü', 'k']\n",
            "Suffixes: ['DER115', 'DER078', 'INFL008', 'INFL108']\n",
            "PoS: ['noun']\n",
            "Morph features: {'Case': 'Nom', 'Number': 'Plur', 'Person': '1', 'Number[psor]': 'Sing', 'Person[psor]': '3', 'Tense': 'Pres', 'Polarity': 'Pos'}\n",
            "\n",
            "Surface form: gözlükçülük\n",
            "Deep form: ['göz', 'lük', 'çül', 'ü', 'k']\n",
            "Suffixes: ['DER115', 'DER078', 'INFL011', 'INFL108']\n",
            "PoS: ['noun']\n",
            "Morph features: {'Case': 'Acc', 'Number': 'Plur', 'Person': '1', 'Tense': 'Pres', 'Polarity': 'Pos'}\n",
            "\n",
            "Surface form: gözlükçülük\n",
            "Deep form: ['gözlükçü', 'lü', 'k']\n",
            "Suffixes: ['DER113', 'DER027']\n",
            "PoS: ['verb']\n",
            "Morph features: {'Number': 'Sing', 'Person': '3', 'Polarity': 'Pos'}\n",
            "\n",
            "Surface form: gözlükçülük\n",
            "Deep form: ['gözlükçülük']\n",
            "Suffixes: []\n",
            "PoS: noun\n",
            "Morph features: {'Case': 'Nom', 'Number': 'Sing', 'Person': '3'}\n",
            "\n",
            "Surface form: gözlükçülük\n",
            "Deep form: ['göz', 'lük', 'çü', 'lük']\n",
            "Suffixes: ['DER115', 'DER076', 'DER115']\n",
            "PoS: ['noun']\n",
            "Morph features: {'Case': 'Nom', 'Number': 'Sing', 'Person': '3'}\n",
            "\n",
            "Surface form: gözlükçülük\n",
            "Deep form: ['gözlük', 'çül', 'ük']\n",
            "Suffixes: ['DER078', 'DER027']\n",
            "PoS: ['verb']\n",
            "Morph features: {'Number': 'Sing', 'Person': '3', 'Polarity': 'Pos'}\n",
            "\n",
            "Surface form: gözlükçülük\n",
            "Deep form: ['göz', 'lük', 'çül', 'ük']\n",
            "Suffixes: ['DER115', 'DER078', 'DER027']\n",
            "PoS: ['verb']\n",
            "Morph features: {'Number': 'Sing', 'Person': '3', 'Polarity': 'Pos'}\n",
            "\n",
            "Surface form: gözlükçülük\n",
            "Deep form: ['gözlük', 'çü', 'lü', 'k']\n",
            "Suffixes: ['DER076', 'DER113', 'DER027']\n",
            "PoS: ['verb']\n",
            "Morph features: {'Number': 'Sing', 'Person': '3', 'Polarity': 'Pos'}\n",
            "\n",
            "Surface form: gözlükçülük\n",
            "Deep form: ['gözlükçü', 'lük']\n",
            "Suffixes: ['DER115']\n",
            "PoS: ['noun']\n",
            "Morph features: {'Case': 'Nom', 'Number': 'Sing', 'Person': '3'}\n",
            "\n",
            "Surface form: gözlükçülük\n",
            "Deep form: ['gözlükçü', 'lük']\n",
            "Suffixes: ['DER116']\n",
            "PoS: ['adjective']\n",
            "Morph features: {'Number': 'Sing', 'Person': '3'}\n",
            "\n",
            "Surface form: gözlükçülük\n",
            "Deep form: ['göz', 'lük', 'çü', 'lü', 'k']\n",
            "Suffixes: ['DER115', 'DER076', 'DER113', 'DER027']\n",
            "PoS: ['verb']\n",
            "Morph features: {'Number': 'Sing', 'Person': '3', 'Polarity': 'Pos'}\n",
            "\n",
            "Surface form: gözlükçülük\n",
            "Deep form: ['gözlük', 'çül', 'ü', 'k']\n",
            "Suffixes: ['DER078', 'INFL008', 'INFL108']\n",
            "PoS: ['noun']\n",
            "Morph features: {'Case': 'Nom', 'Number': 'Plur', 'Person': '1', 'Number[psor]': 'Sing', 'Person[psor]': '3', 'Tense': 'Pres', 'Polarity': 'Pos'}\n",
            "\n",
            "Surface form: gözlükçülük\n",
            "Deep form: ['gözlük', 'çül', 'ü', 'k']\n",
            "Suffixes: ['DER078', 'INFL011', 'INFL108']\n",
            "PoS: ['noun']\n",
            "Morph features: {'Case': 'Acc', 'Number': 'Plur', 'Person': '1', 'Tense': 'Pres', 'Polarity': 'Pos'}\n",
            "\n",
            "Surface form: gözlükçülük\n",
            "Deep form: ['gözlük', 'çü', 'lük']\n",
            "Suffixes: ['DER076', 'DER115']\n",
            "PoS: ['noun']\n",
            "Morph features: {'Case': 'Nom', 'Number': 'Sing', 'Person': '3'}\n",
            "\n",
            "Surface form: gözlükçülük\n",
            "Deep form: ['gözlük', 'çü', 'lük']\n",
            "Suffixes: ['DER076', 'DER116']\n",
            "PoS: ['adjective']\n",
            "Morph features: {'Number': 'Sing', 'Person': '3'}\n",
            "\n",
            "Surface form: gözlükçülük\n",
            "Deep form: ['göz', 'lük', 'çü', 'lük']\n",
            "Suffixes: ['DER115', 'DER076', 'DER116']\n",
            "PoS: ['adjective']\n",
            "Morph features: {'Number': 'Sing', 'Person': '3'}\n",
            "\n",
            "Surface form: gözlükçülük\n",
            "Deep form: ['gözlükçü', 'l', 'ük']\n",
            "Suffixes: ['DER009', 'DER027']\n",
            "PoS: ['verb']\n",
            "Morph features: {'Number': 'Sing', 'Person': '3', 'Polarity': 'Pos'}\n",
            "\n"
          ]
        }
      ],
      "source": [
        "for hyp in set(analyses):\n",
        "    hyp.update_pos_and_morph_features(affixes)\n",
        "    print('Surface form:', hyp.surface_form)\n",
        "    print('Deep form:', hyp.deep_form)\n",
        "    print('Suffixes:', hyp.suffixes)\n",
        "    print('PoS:', hyp.pos)\n",
        "    print('Morph features:', hyp.morph_features)\n",
        "    print()"
      ]
    },
    {
      "cell_type": "markdown",
      "metadata": {
        "id": "UnHPpFpmIDN9"
      },
      "source": [
        "Answer: Nope. Big nope. Let's add an overriding segmentation for this word to make it work better."
      ]
    },
    {
      "cell_type": "code",
      "execution_count": 9,
      "metadata": {
        "id": "GPvgxLJkIDUD"
      },
      "outputs": [],
      "source": [
        "overrides['gözlükçülük'] = 'göz+lük+çü+lük'.split('+')"
      ]
    },
    {
      "cell_type": "code",
      "execution_count": 10,
      "metadata": {
        "colab": {
          "base_uri": "https://localhost:8080/"
        },
        "id": "UhV4lDuRIDWJ",
        "outputId": "50acb55d-6c04-43a7-8e00-9ffef7da776a"
      },
      "outputs": [
        {
          "name": "stdout",
          "output_type": "stream",
          "text": [
            "Surface form: gözlükçülük\n",
            "Deep form: ['göz', 'lük', 'çü', 'lük']\n",
            "Suffixes: ['DER115', 'DER076', 'DER116']\n",
            "PoS: ['adjective']\n",
            "Morph features: {'Number': 'Sing', 'Person': '3'}\n",
            "\n",
            "Surface form: gözlükçülük\n",
            "Deep form: ['göz', 'lük', 'çü', 'lük']\n",
            "Suffixes: ['DER115', 'DER076', 'DER115']\n",
            "PoS: ['noun']\n",
            "Morph features: {'Case': 'Nom', 'Number': 'Sing', 'Person': '3'}\n",
            "\n"
          ]
        }
      ],
      "source": [
        "analyses = Analyzer().analyze(word, lexicon, affixes, forbidden_combinations, overrides)\n",
        "\n",
        "for hyp in set(analyses):\n",
        "    hyp.update_pos_and_morph_features(affixes)\n",
        "    print('Surface form:', hyp.surface_form)\n",
        "    print('Deep form:', hyp.deep_form)\n",
        "    print('Suffixes:', hyp.suffixes)\n",
        "    print('PoS:', hyp.pos)\n",
        "    print('Morph features:', hyp.morph_features)\n",
        "    print()"
      ]
    },
    {
      "cell_type": "markdown",
      "metadata": {
        "id": "tRvKoZEVMUeX"
      },
      "source": [
        "Now this makes much more sense. We have 'gözlükçülük' either as an adjective or a noun. Let's take a look at some other scenarios for the analyzer.\n",
        "\n",
        "First, let's write a wrapper analysis printing function so that we don't have to repeat the code block each time."
      ]
    },
    {
      "cell_type": "code",
      "execution_count": 11,
      "metadata": {
        "id": "1XaEMqyOKADa"
      },
      "outputs": [],
      "source": [
        "def analysis_wrapper(word_input):\n",
        "\n",
        "    analyses = Analyzer().analyze(word_input, roots=lexicon, affixes=affixes,\n",
        "                                    forbidden_combinations=forbidden_combinations, overrides=overrides)\n",
        "    for hyp in set(analyses):\n",
        "        hyp.update_pos_and_morph_features(affixes)\n",
        "        print('Surface form:', hyp.surface_form)\n",
        "        print('Deep form:', hyp.deep_form)\n",
        "        print('Suffixes:', hyp.suffixes)\n",
        "        print('PoS:', hyp.pos)\n",
        "        print('Morph features:', hyp.morph_features)\n",
        "        print()"
      ]
    },
    {
      "cell_type": "markdown",
      "metadata": {
        "id": "lWdPoW7LNoEy"
      },
      "source": [
        "Analyzing a word with Arabic origin, together with a Turkish suffix:"
      ]
    },
    {
      "cell_type": "code",
      "execution_count": 12,
      "metadata": {
        "colab": {
          "base_uri": "https://localhost:8080/"
        },
        "id": "_6kQtdCeKTVz",
        "outputId": "e72a3db7-234e-4a5c-a469-6aa43d6e4b04"
      },
      "outputs": [
        {
          "name": "stdout",
          "output_type": "stream",
          "text": [
            "Surface form: ihtişamla\n",
            "Deep form: ['Hşm', 'iftiˁāl', 'la']\n",
            "Suffixes: ['iftiˁāl', 'DER104']\n",
            "PoS: ['verb']\n",
            "Morph features: {'Number': 'Sing', 'Person': '3', 'Polarity': 'Pos'}\n",
            "\n",
            "Surface form: ihtişamla\n",
            "Deep form: ['Hşm', 'iftiˁāl', 'la']\n",
            "Suffixes: ['iftiˁāl', 'DER105']\n",
            "PoS: ['noun']\n",
            "Morph features: {'Case': 'Nom', 'Number': 'Sing', 'Person': '3'}\n",
            "\n",
            "Surface form: ihtişamla\n",
            "Deep form: ['Hşm', 'iftiˁāl', 'l', 'a']\n",
            "Suffixes: ['iftiˁāl', 'DER009', 'INFL027']\n",
            "PoS: ['adjective']\n",
            "Morph features: {'Number': 'Sing', 'Person': '3', 'Case': 'Dat'}\n",
            "\n",
            "Surface form: ihtişamla\n",
            "Deep form: ['Hşm', 'iftiˁāl', 'la']\n",
            "Suffixes: ['iftiˁāl', 'INFL017']\n",
            "PoS: ['noun']\n",
            "Morph features: {'Case': 'Ins', 'Number': 'Sing', 'Person': '3'}\n",
            "\n"
          ]
        }
      ],
      "source": [
        "analysis_wrapper('ihtişamla')"
      ]
    },
    {
      "cell_type": "markdown",
      "metadata": {
        "id": "lYSD0HawN0-k"
      },
      "source": [
        "Analyzing an unknown proper name with a suffix (Zimbabwean'ın):"
      ]
    },
    {
      "cell_type": "code",
      "execution_count": 13,
      "metadata": {
        "colab": {
          "base_uri": "https://localhost:8080/"
        },
        "id": "3ifLm3QbNMN4",
        "outputId": "a8a29a76-9c6c-466d-837d-9747c8aa1ee2"
      },
      "outputs": [
        {
          "name": "stdout",
          "output_type": "stream",
          "text": [
            "Surface form: Zimbabwean'ın\n",
            "Deep form: ['Zimbabwean', 'ın']\n",
            "Suffixes: ['DER058']\n",
            "PoS: ['adverb']\n",
            "Morph features: {'Case': 'Nom', 'Number': 'Sing', 'Person': '3'}\n",
            "\n",
            "Surface form: Zimbabwean'ın\n",
            "Deep form: ['Zimbabwean', 'ın']\n",
            "Suffixes: ['INFL006']\n",
            "PoS: ['noun']\n",
            "Morph features: {'Case': 'Nom', 'Number': 'Sing', 'Person': '3', 'Number[psor]': 'Sing', 'Person[psor]': '2'}\n",
            "\n",
            "Surface form: Zimbabwean'ın\n",
            "Deep form: ['Zimbabwean', 'ın']\n",
            "Suffixes: ['INFL015']\n",
            "PoS: ['noun']\n",
            "Morph features: {'Case': 'Gen', 'Number': 'Sing', 'Person': '3'}\n",
            "\n",
            "Surface form: Zimbabwean'ın\n",
            "Deep form: ['Zimbabwean', 'ın']\n",
            "Suffixes: ['INFL008']\n",
            "PoS: ['noun']\n",
            "Morph features: {'Case': 'Nom', 'Number': 'Sing', 'Person': '3', 'Number[psor]': 'Sing', 'Person[psor]': '3'}\n",
            "\n"
          ]
        }
      ],
      "source": [
        "analysis_wrapper('Zimbabwean\\'ın')"
      ]
    },
    {
      "cell_type": "markdown",
      "metadata": {
        "id": "D97PkqZMOOS9"
      },
      "source": [
        "How are numbers handled?"
      ]
    },
    {
      "cell_type": "code",
      "execution_count": 14,
      "metadata": {
        "colab": {
          "base_uri": "https://localhost:8080/"
        },
        "id": "LriIMxGPNzr2",
        "outputId": "c515cea9-a490-413e-9ca7-f4e8f8e64b2f"
      },
      "outputs": [
        {
          "name": "stdout",
          "output_type": "stream",
          "text": [
            "Surface form: 93\n",
            "Deep form: ['93']\n",
            "Suffixes: []\n",
            "PoS: number\n",
            "Morph features: {'NumType': 'Card'}\n",
            "\n"
          ]
        }
      ],
      "source": [
        "analysis_wrapper('93')"
      ]
    },
    {
      "cell_type": "markdown",
      "metadata": {
        "id": "eenPZCHOOiiF"
      },
      "source": [
        "# 4. Morphological Disambiguator\n",
        "\n",
        "The morphological disambiguator is a BERT model with additional heads for disambiguation. It is based on https://huggingface.co/dbmdz/bert-base-turkish-cased.\n",
        "The .bin file for the model is not stored on Github for now. Running the next cell downloads the model into the correct directory."
      ]
    },
    {
      "cell_type": "code",
      "execution_count": 15,
      "metadata": {
        "id": "N6kuN5OJTl0P"
      },
      "outputs": [],
      "source": [
        "!wget -O tmf/resources/multihead_pos_morph_6.model/pytorch_model.bin 'https://www.dropbox.com/scl/fi/4b1sg25fsotxs4k6epma9/pytorch_model.bin\\?rlkey=mxebcfkmwto3weomk3s2djyom&dl=1'\n",
        "from tmf.disambiguator import *"
      ]
    },
    {
      "cell_type": "code",
      "execution_count": 16,
      "metadata": {},
      "outputs": [],
      "source": [
        "def parse_sentence(sentence):\n",
        "    disamb_input_sent = {'sentence':[], 'pos_subset':[], 'morph_subset':[]}\n",
        "\n",
        "    for word in sentence.split():\n",
        "        disamb_input_sent['sentence'].append(word)\n",
        "        pos_subset = []\n",
        "        morph_subset = []\n",
        "        analyses = Analyzer().analyze(word, lexicon, affixes, forbidden_combinations, overrides)\n",
        "        for hyp in analyses:\n",
        "            pos_subset.append(convert_tag(hyp.pos))\n",
        "            morph_subset.append(hyp.morph_features)\n",
        "        disamb_input_sent['pos_subset'].append(pos_subset)\n",
        "        disamb_input_sent['morph_subset'].append(morph_subset)\n",
        "    sentence, pos, morph = infer(disamb_input_sent)\n",
        "    for i in range(len(sentence)):\n",
        "        print('Word: {} | POS: {} | Morph. Features: {}'.format(sentence[i], pos[i], morph[i]))\n",
        "    return sentence, pos, morph"
      ]
    },
    {
      "cell_type": "markdown",
      "metadata": {
        "id": "SR3K6l3AUklT"
      },
      "source": [
        "Let's try disambiguating 'gözlükçülük' a sentence, as we have two alternatives for it."
      ]
    },
    {
      "cell_type": "code",
      "execution_count": 17,
      "metadata": {
        "colab": {
          "base_uri": "https://localhost:8080/"
        },
        "id": "1HtTGTOrghII",
        "outputId": "97c4ff30-913a-4005-e2ae-ec200459bd27"
      },
      "outputs": [
        {
          "name": "stdout",
          "output_type": "stream",
          "text": [
            "Word: gözlükçülük | POS: NOUN | Morph. Features: {'Case': 'Nom', 'Number': 'Sing', 'Person': '3'}\n",
            "Word: işi | POS: NOUN | Morph. Features: {'Case': 'Nom', 'Number': 'Sing', 'Person': '3'}\n",
            "Word: yapıyorum | POS: VERB | Morph. Features: {'Polarity': 'Pos', 'Person': '3', 'Number': 'Sing', 'Tense': 'Pres', 'Mood': 'Imp'}\n",
            "Word: . | POS: PUNCT | Morph. Features: {}\n"
          ]
        },
        {
          "data": {
            "text/plain": [
              "(['gözlükçülük', 'işi', 'yapıyorum', '.'],\n",
              " ['NOUN', 'NOUN', 'VERB', 'PUNCT'],\n",
              " [{'Case': 'Nom', 'Number': 'Sing', 'Person': '3'},\n",
              "  {'Case': 'Nom', 'Number': 'Sing', 'Person': '3'},\n",
              "  {'Polarity': 'Pos',\n",
              "   'Person': '3',\n",
              "   'Number': 'Sing',\n",
              "   'Tense': 'Pres',\n",
              "   'Mood': 'Imp'},\n",
              "  {}])"
            ]
          },
          "execution_count": 17,
          "metadata": {},
          "output_type": "execute_result"
        }
      ],
      "source": [
        "parse_sentence('gözlükçülük işi yapıyorum .')"
      ]
    },
    {
      "cell_type": "code",
      "execution_count": null,
      "metadata": {},
      "outputs": [],
      "source": []
    }
  ],
  "metadata": {
    "colab": {
      "provenance": []
    },
    "kernelspec": {
      "display_name": "Python 3",
      "name": "python3"
    },
    "language_info": {
      "codemirror_mode": {
        "name": "ipython",
        "version": 3
      },
      "file_extension": ".py",
      "mimetype": "text/x-python",
      "name": "python",
      "nbconvert_exporter": "python",
      "pygments_lexer": "ipython3",
      "version": "3.9.16"
    }
  },
  "nbformat": 4,
  "nbformat_minor": 0
}
